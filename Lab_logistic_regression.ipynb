{
 "cells": [
  {
   "cell_type": "markdown",
   "metadata": {},
   "source": [
    "Lab | Making predictions with logistic regression \n",
    "\n",
    "Reading data into a Pandas dataframe. \n",
    "Analyze extracted features and transform them. \n",
    "Encoding some categorical variables, or scale numerical variables. \n",
    "Creating a query to get the list films rental rate, rental_duration, length, category_id and film rating \n",
    "Film rating would be the target variable. Creating a logistic regression model to predict this variable from the cleaned data. \n",
    "Evaluation of results."
   ]
  },
  {
   "cell_type": "code",
   "execution_count": 1,
   "metadata": {},
   "outputs": [
    {
     "name": "stdout",
     "output_type": "stream",
     "text": [
      "········\n"
     ]
    }
   ],
   "source": [
    "import pymysql\n",
    "from sqlalchemy import create_engine\n",
    "import pandas as pd\n",
    "import getpass  # To get the password without showing the input\n",
    "pw = getpass.getpass()"
   ]
  },
  {
   "cell_type": "markdown",
   "metadata": {},
   "source": [
    "Read the data into a Pandas dataframe."
   ]
  },
  {
   "cell_type": "code",
   "execution_count": 2,
   "metadata": {},
   "outputs": [],
   "source": [
    "# define a connection object\n",
    "conn = pymysql.connect(host=\"localhost\",\n",
    "                       port=3306,      # most often, it's this port\n",
    "                       user=\"root\",\n",
    "                       passwd=pw,\n",
    "                       db=\"sakila\")"
   ]
  },
  {
   "cell_type": "code",
   "execution_count": 3,
   "metadata": {},
   "outputs": [
    {
     "data": {
      "text/html": [
       "<div>\n",
       "<style scoped>\n",
       "    .dataframe tbody tr th:only-of-type {\n",
       "        vertical-align: middle;\n",
       "    }\n",
       "\n",
       "    .dataframe tbody tr th {\n",
       "        vertical-align: top;\n",
       "    }\n",
       "\n",
       "    .dataframe thead th {\n",
       "        text-align: right;\n",
       "    }\n",
       "</style>\n",
       "<table border=\"1\" class=\"dataframe\">\n",
       "  <thead>\n",
       "    <tr style=\"text-align: right;\">\n",
       "      <th></th>\n",
       "      <th>rental_rate</th>\n",
       "      <th>rental_duration</th>\n",
       "      <th>length</th>\n",
       "      <th>replacement_cost</th>\n",
       "      <th>category_id</th>\n",
       "      <th>rating</th>\n",
       "    </tr>\n",
       "  </thead>\n",
       "  <tbody>\n",
       "    <tr>\n",
       "      <th>0</th>\n",
       "      <td>0.99</td>\n",
       "      <td>6</td>\n",
       "      <td>113</td>\n",
       "      <td>20.99</td>\n",
       "      <td>1</td>\n",
       "      <td>PG</td>\n",
       "    </tr>\n",
       "    <tr>\n",
       "      <th>1</th>\n",
       "      <td>4.99</td>\n",
       "      <td>3</td>\n",
       "      <td>129</td>\n",
       "      <td>17.99</td>\n",
       "      <td>1</td>\n",
       "      <td>R</td>\n",
       "    </tr>\n",
       "    <tr>\n",
       "      <th>2</th>\n",
       "      <td>2.99</td>\n",
       "      <td>5</td>\n",
       "      <td>168</td>\n",
       "      <td>11.99</td>\n",
       "      <td>1</td>\n",
       "      <td>NC-17</td>\n",
       "    </tr>\n",
       "    <tr>\n",
       "      <th>3</th>\n",
       "      <td>0.99</td>\n",
       "      <td>6</td>\n",
       "      <td>68</td>\n",
       "      <td>25.99</td>\n",
       "      <td>1</td>\n",
       "      <td>NC-17</td>\n",
       "    </tr>\n",
       "    <tr>\n",
       "      <th>4</th>\n",
       "      <td>2.99</td>\n",
       "      <td>6</td>\n",
       "      <td>129</td>\n",
       "      <td>15.99</td>\n",
       "      <td>1</td>\n",
       "      <td>G</td>\n",
       "    </tr>\n",
       "  </tbody>\n",
       "</table>\n",
       "</div>"
      ],
      "text/plain": [
       "   rental_rate  rental_duration  length  replacement_cost  category_id rating\n",
       "0         0.99                6     113             20.99            1     PG\n",
       "1         4.99                3     129             17.99            1      R\n",
       "2         2.99                5     168             11.99            1  NC-17\n",
       "3         0.99                6      68             25.99            1  NC-17\n",
       "4         2.99                6     129             15.99            1      G"
      ]
     },
     "execution_count": 3,
     "metadata": {},
     "output_type": "execute_result"
    }
   ],
   "source": [
    "query = '''select film.rental_rate, film.rental_duration, film.length, film.replacement_cost, cate.category_id, film.rating \n",
    "from sakila.film as film\n",
    "inner join sakila.film_category as cate using (film_id)\n",
    "inner join sakila.category as catt using (category_id)\n",
    "where category_id < 6;'''\n",
    "\n",
    "data = pd.read_sql_query(query, conn)\n",
    "data.head()"
   ]
  },
  {
   "cell_type": "code",
   "execution_count": 4,
   "metadata": {},
   "outputs": [
    {
     "data": {
      "text/plain": [
       "2    66\n",
       "1    64\n",
       "3    60\n",
       "5    58\n",
       "4    57\n",
       "Name: category_id, dtype: int64"
      ]
     },
     "execution_count": 4,
     "metadata": {},
     "output_type": "execute_result"
    }
   ],
   "source": [
    "data['category_id'].value_counts(   )"
   ]
  },
  {
   "cell_type": "code",
   "execution_count": 5,
   "metadata": {},
   "outputs": [
    {
     "data": {
      "text/plain": [
       "(305, 6)"
      ]
     },
     "execution_count": 5,
     "metadata": {},
     "output_type": "execute_result"
    }
   ],
   "source": [
    "data.shape"
   ]
  },
  {
   "cell_type": "code",
   "execution_count": 6,
   "metadata": {},
   "outputs": [
    {
     "data": {
      "text/plain": [
       "PG-13    69\n",
       "G        63\n",
       "PG       61\n",
       "NC-17    59\n",
       "R        53\n",
       "Name: rating, dtype: int64"
      ]
     },
     "execution_count": 6,
     "metadata": {},
     "output_type": "execute_result"
    }
   ],
   "source": [
    "data['rating'].value_counts()"
   ]
  },
  {
   "cell_type": "code",
   "execution_count": 7,
   "metadata": {},
   "outputs": [
    {
     "data": {
      "text/plain": [
       "3    66\n",
       "6    62\n",
       "7    61\n",
       "4    60\n",
       "5    56\n",
       "Name: rental_duration, dtype: int64"
      ]
     },
     "execution_count": 7,
     "metadata": {},
     "output_type": "execute_result"
    }
   ],
   "source": [
    "data['rental_duration'].value_counts()"
   ]
  },
  {
   "cell_type": "code",
   "execution_count": 8,
   "metadata": {},
   "outputs": [
    {
     "data": {
      "text/plain": [
       "0.99    110\n",
       "2.99    107\n",
       "4.99     88\n",
       "Name: rental_rate, dtype: int64"
      ]
     },
     "execution_count": 8,
     "metadata": {},
     "output_type": "execute_result"
    }
   ],
   "source": [
    "data['rental_rate'].value_counts()"
   ]
  },
  {
   "cell_type": "code",
   "execution_count": 9,
   "metadata": {},
   "outputs": [
    {
     "data": {
      "text/plain": [
       "12.99    23\n",
       "29.99    19\n",
       "27.99    18\n",
       "14.99    18\n",
       "28.99    17\n",
       "13.99    17\n",
       "16.99    16\n",
       "22.99    16\n",
       "21.99    15\n",
       "19.99    14\n",
       "23.99    14\n",
       "26.99    14\n",
       "18.99    14\n",
       "24.99    13\n",
       "11.99    13\n",
       "10.99    13\n",
       "17.99    12\n",
       "25.99    11\n",
       "20.99    10\n",
       "15.99     9\n",
       "9.99      9\n",
       "Name: replacement_cost, dtype: int64"
      ]
     },
     "execution_count": 9,
     "metadata": {},
     "output_type": "execute_result"
    }
   ],
   "source": [
    "data['replacement_cost'].value_counts()"
   ]
  },
  {
   "cell_type": "code",
   "execution_count": 10,
   "metadata": {},
   "outputs": [
    {
     "data": {
      "text/plain": [
       "rental_rate         float64\n",
       "rental_duration       int64\n",
       "length                int64\n",
       "replacement_cost    float64\n",
       "category_id           int64\n",
       "rating               object\n",
       "dtype: object"
      ]
     },
     "execution_count": 10,
     "metadata": {},
     "output_type": "execute_result"
    }
   ],
   "source": [
    "data.dtypes"
   ]
  },
  {
   "cell_type": "code",
   "execution_count": 11,
   "metadata": {},
   "outputs": [
    {
     "data": {
      "text/plain": [
       "85     8\n",
       "84     6\n",
       "53     6\n",
       "185    5\n",
       "142    5\n",
       "112    5\n",
       "102    5\n",
       "92     5\n",
       "52     5\n",
       "143    5\n",
       "69     4\n",
       "152    4\n",
       "58     4\n",
       "103    4\n",
       "108    4\n",
       "57     4\n",
       "135    4\n",
       "139    4\n",
       "115    4\n",
       "176    4\n",
       "148    3\n",
       "184    3\n",
       "126    3\n",
       "132    3\n",
       "79     3\n",
       "78     3\n",
       "89     3\n",
       "136    3\n",
       "74     3\n",
       "122    3\n",
       "      ..\n",
       "56     1\n",
       "181    1\n",
       "157    1\n",
       "158    1\n",
       "162    1\n",
       "180    1\n",
       "76     1\n",
       "71     1\n",
       "88     1\n",
       "105    1\n",
       "111    1\n",
       "96     1\n",
       "116    1\n",
       "117    1\n",
       "93     1\n",
       "118    1\n",
       "123    1\n",
       "124    1\n",
       "87     1\n",
       "169    1\n",
       "86     1\n",
       "128    1\n",
       "81     1\n",
       "131    1\n",
       "134    1\n",
       "170    1\n",
       "164    1\n",
       "75     1\n",
       "137    1\n",
       "165    1\n",
       "Name: length, Length: 131, dtype: int64"
      ]
     },
     "execution_count": 11,
     "metadata": {},
     "output_type": "execute_result"
    }
   ],
   "source": [
    "data['length'].value_counts()"
   ]
  },
  {
   "cell_type": "code",
   "execution_count": 12,
   "metadata": {},
   "outputs": [
    {
     "data": {
      "text/plain": [
       "rental_rate         0\n",
       "rental_duration     0\n",
       "length              0\n",
       "replacement_cost    0\n",
       "category_id         0\n",
       "rating              0\n",
       "dtype: int64"
      ]
     },
     "execution_count": 12,
     "metadata": {},
     "output_type": "execute_result"
    }
   ],
   "source": [
    "data.isna().sum()"
   ]
  },
  {
   "cell_type": "code",
   "execution_count": 13,
   "metadata": {},
   "outputs": [],
   "source": [
    "data['category_id'] = data['category_id'].astype('object')"
   ]
  },
  {
   "cell_type": "code",
   "execution_count": 14,
   "metadata": {},
   "outputs": [],
   "source": [
    "data['rental_rate'] = data['rental_rate'].astype('object')"
   ]
  },
  {
   "cell_type": "code",
   "execution_count": 15,
   "metadata": {},
   "outputs": [],
   "source": [
    "data['rental_duration'] = data['rental_duration'].astype('object')"
   ]
  },
  {
   "cell_type": "code",
   "execution_count": 16,
   "metadata": {},
   "outputs": [],
   "source": [
    "data['rating'] = data['rating'].astype('object')"
   ]
  },
  {
   "cell_type": "code",
   "execution_count": 17,
   "metadata": {},
   "outputs": [],
   "source": [
    "data['length'] = data['length'].astype('float')"
   ]
  },
  {
   "cell_type": "code",
   "execution_count": 18,
   "metadata": {},
   "outputs": [
    {
     "data": {
      "text/plain": [
       "rental_rate          object\n",
       "rental_duration      object\n",
       "length              float64\n",
       "replacement_cost    float64\n",
       "category_id          object\n",
       "rating               object\n",
       "dtype: object"
      ]
     },
     "execution_count": 18,
     "metadata": {},
     "output_type": "execute_result"
    }
   ],
   "source": [
    "data.dtypes"
   ]
  },
  {
   "cell_type": "code",
   "execution_count": 19,
   "metadata": {},
   "outputs": [
    {
     "data": {
      "text/plain": [
       "PG-13    69\n",
       "G        63\n",
       "PG       61\n",
       "NC-17    59\n",
       "R        53\n",
       "Name: rating, dtype: int64"
      ]
     },
     "execution_count": 19,
     "metadata": {},
     "output_type": "execute_result"
    }
   ],
   "source": [
    "data['rating'].value_counts()"
   ]
  },
  {
   "cell_type": "code",
   "execution_count": 20,
   "metadata": {},
   "outputs": [],
   "source": [
    "def cleanOperation(x):\n",
    "    if 'PG-13' in x:\n",
    "        return \"PG\"\n",
    "    elif x == 'G':\n",
    "        return \"G\"\n",
    "    elif 'PG' in x:\n",
    "        return 'PGG'\n",
    "    elif 'NC-17' in x:\n",
    "        return 'NC'\n",
    "    elif 'R' in x:\n",
    "        return 'R'\n",
    "    else:\n",
    "        return 'unknown'"
   ]
  },
  {
   "cell_type": "code",
   "execution_count": 21,
   "metadata": {},
   "outputs": [],
   "source": [
    "data['rating'] = list(map(cleanOperation, data['rating']))"
   ]
  },
  {
   "cell_type": "code",
   "execution_count": 22,
   "metadata": {},
   "outputs": [
    {
     "data": {
      "text/plain": [
       "PG     69\n",
       "G      63\n",
       "PGG    61\n",
       "NC     59\n",
       "R      53\n",
       "Name: rating, dtype: int64"
      ]
     },
     "execution_count": 22,
     "metadata": {},
     "output_type": "execute_result"
    }
   ],
   "source": [
    "data['rating'].value_counts()"
   ]
  },
  {
   "cell_type": "code",
   "execution_count": 23,
   "metadata": {
    "scrolled": true
   },
   "outputs": [
    {
     "data": {
      "text/html": [
       "<div>\n",
       "<style scoped>\n",
       "    .dataframe tbody tr th:only-of-type {\n",
       "        vertical-align: middle;\n",
       "    }\n",
       "\n",
       "    .dataframe tbody tr th {\n",
       "        vertical-align: top;\n",
       "    }\n",
       "\n",
       "    .dataframe thead th {\n",
       "        text-align: right;\n",
       "    }\n",
       "</style>\n",
       "<table border=\"1\" class=\"dataframe\">\n",
       "  <thead>\n",
       "    <tr style=\"text-align: right;\">\n",
       "      <th></th>\n",
       "      <th>length</th>\n",
       "      <th>replacement_cost</th>\n",
       "    </tr>\n",
       "  </thead>\n",
       "  <tbody>\n",
       "    <tr>\n",
       "      <th>count</th>\n",
       "      <td>305.000000</td>\n",
       "      <td>305.000000</td>\n",
       "    </tr>\n",
       "    <tr>\n",
       "      <th>mean</th>\n",
       "      <td>111.937705</td>\n",
       "      <td>20.232623</td>\n",
       "    </tr>\n",
       "    <tr>\n",
       "      <th>std</th>\n",
       "      <td>40.651350</td>\n",
       "      <td>6.171892</td>\n",
       "    </tr>\n",
       "    <tr>\n",
       "      <th>min</th>\n",
       "      <td>46.000000</td>\n",
       "      <td>9.990000</td>\n",
       "    </tr>\n",
       "    <tr>\n",
       "      <th>25%</th>\n",
       "      <td>79.000000</td>\n",
       "      <td>14.990000</td>\n",
       "    </tr>\n",
       "    <tr>\n",
       "      <th>50%</th>\n",
       "      <td>109.000000</td>\n",
       "      <td>19.990000</td>\n",
       "    </tr>\n",
       "    <tr>\n",
       "      <th>75%</th>\n",
       "      <td>144.000000</td>\n",
       "      <td>25.990000</td>\n",
       "    </tr>\n",
       "    <tr>\n",
       "      <th>max</th>\n",
       "      <td>185.000000</td>\n",
       "      <td>29.990000</td>\n",
       "    </tr>\n",
       "  </tbody>\n",
       "</table>\n",
       "</div>"
      ],
      "text/plain": [
       "           length  replacement_cost\n",
       "count  305.000000        305.000000\n",
       "mean   111.937705         20.232623\n",
       "std     40.651350          6.171892\n",
       "min     46.000000          9.990000\n",
       "25%     79.000000         14.990000\n",
       "50%    109.000000         19.990000\n",
       "75%    144.000000         25.990000\n",
       "max    185.000000         29.990000"
      ]
     },
     "execution_count": 23,
     "metadata": {},
     "output_type": "execute_result"
    }
   ],
   "source": [
    "data.describe()"
   ]
  },
  {
   "cell_type": "code",
   "execution_count": 24,
   "metadata": {},
   "outputs": [],
   "source": [
    "import matplotlib.pyplot as plt\n",
    "import seaborn as sns\n",
    "%matplotlib inline"
   ]
  },
  {
   "cell_type": "code",
   "execution_count": 25,
   "metadata": {},
   "outputs": [
    {
     "data": {
      "image/png": "[encoded data removed]",
      "text/plain": [
       "<Figure size 432x288 with 1 Axes>"
      ]
     },
     "metadata": {
      "needs_background": "light"
     },
     "output_type": "display_data"
    }
   ],
   "source": [
    "sns.distplot(data['length'])\n",
    "plt.show()\n"
   ]
  },
  {
   "cell_type": "code",
   "execution_count": 26,
   "metadata": {
    "scrolled": true
   },
   "outputs": [
    {
     "data": {
      "image/png": "[encoded data removed]",
      "text/plain": [
       "<Figure size 432x288 with 1 Axes>"
      ]
     },
     "metadata": {
      "needs_background": "light"
     },
     "output_type": "display_data"
    }
   ],
   "source": [
    "sns.distplot(data['replacement_cost'])\n",
    "plt.show()\n"
   ]
  },
  {
   "cell_type": "code",
   "execution_count": 27,
   "metadata": {},
   "outputs": [
    {
     "data": {
      "image/png": "[encoded data removed]",
      "text/plain": [
       "<Figure size 432x288 with 1 Axes>"
      ]
     },
     "metadata": {
      "needs_background": "light"
     },
     "output_type": "display_data"
    }
   ],
   "source": [
    "sns.distplot(data['rental_rate'])\n",
    "plt.show()"
   ]
  },
  {
   "cell_type": "code",
   "execution_count": 28,
   "metadata": {},
   "outputs": [
    {
     "data": {
      "image/png": "[encoded data removed]",
      "text/plain": [
       "<Figure size 432x288 with 1 Axes>"
      ]
     },
     "metadata": {
      "needs_background": "light"
     },
     "output_type": "display_data"
    }
   ],
   "source": [
    "sns.distplot(data['rental_duration'])\n",
    "plt.show()"
   ]
  },
  {
   "cell_type": "code",
   "execution_count": 30,
   "metadata": {
    "scrolled": true
   },
   "outputs": [
    {
     "ename": "TypeError",
     "evalue": "unsupported operand type(s) for /: 'str' and 'int'",
     "output_type": "error",
     "traceback": [
      "\u001b[1;31m---------------------------------------------------------------------------\u001b[0m",
      "\u001b[1;31mTypeError\u001b[0m                                 Traceback (most recent call last)",
      "\u001b[1;32m<ipython-input-30-ca0b4f541421>\u001b[0m in \u001b[0;36m<module>\u001b[1;34m\u001b[0m\n\u001b[1;32m----> 1\u001b[1;33m \u001b[0msns\u001b[0m\u001b[1;33m.\u001b[0m\u001b[0mdistplot\u001b[0m\u001b[1;33m(\u001b[0m\u001b[0mdata\u001b[0m\u001b[1;33m[\u001b[0m\u001b[1;34m'rating'\u001b[0m\u001b[1;33m]\u001b[0m\u001b[1;33m)\u001b[0m\u001b[1;33m\u001b[0m\u001b[1;33m\u001b[0m\u001b[0m\n\u001b[0m\u001b[0;32m      2\u001b[0m \u001b[0mplt\u001b[0m\u001b[1;33m.\u001b[0m\u001b[0mshow\u001b[0m\u001b[1;33m(\u001b[0m\u001b[1;33m)\u001b[0m\u001b[1;33m\u001b[0m\u001b[1;33m\u001b[0m\u001b[0m\n",
      "\u001b[1;32m~\\Anaconda3\\lib\\site-packages\\seaborn\\distributions.py\u001b[0m in \u001b[0;36mdistplot\u001b[1;34m(a, bins, hist, kde, rug, fit, hist_kws, kde_kws, rug_kws, fit_kws, color, vertical, norm_hist, axlabel, label, ax)\u001b[0m\n\u001b[0;32m    196\u001b[0m             \u001b[0mline\u001b[0m\u001b[1;33m,\u001b[0m \u001b[1;33m=\u001b[0m \u001b[0max\u001b[0m\u001b[1;33m.\u001b[0m\u001b[0mplot\u001b[0m\u001b[1;33m(\u001b[0m\u001b[1;36m0\u001b[0m\u001b[1;33m,\u001b[0m \u001b[0ma\u001b[0m\u001b[1;33m.\u001b[0m\u001b[0mmean\u001b[0m\u001b[1;33m(\u001b[0m\u001b[1;33m)\u001b[0m\u001b[1;33m)\u001b[0m\u001b[1;33m\u001b[0m\u001b[1;33m\u001b[0m\u001b[0m\n\u001b[0;32m    197\u001b[0m         \u001b[1;32melse\u001b[0m\u001b[1;33m:\u001b[0m\u001b[1;33m\u001b[0m\u001b[1;33m\u001b[0m\u001b[0m\n\u001b[1;32m--> 198\u001b[1;33m             \u001b[0mline\u001b[0m\u001b[1;33m,\u001b[0m \u001b[1;33m=\u001b[0m \u001b[0max\u001b[0m\u001b[1;33m.\u001b[0m\u001b[0mplot\u001b[0m\u001b[1;33m(\u001b[0m\u001b[0ma\u001b[0m\u001b[1;33m.\u001b[0m\u001b[0mmean\u001b[0m\u001b[1;33m(\u001b[0m\u001b[1;33m)\u001b[0m\u001b[1;33m,\u001b[0m \u001b[1;36m0\u001b[0m\u001b[1;33m)\u001b[0m\u001b[1;33m\u001b[0m\u001b[1;33m\u001b[0m\u001b[0m\n\u001b[0m\u001b[0;32m    199\u001b[0m         \u001b[0mcolor\u001b[0m \u001b[1;33m=\u001b[0m \u001b[0mline\u001b[0m\u001b[1;33m.\u001b[0m\u001b[0mget_color\u001b[0m\u001b[1;33m(\u001b[0m\u001b[1;33m)\u001b[0m\u001b[1;33m\u001b[0m\u001b[1;33m\u001b[0m\u001b[0m\n\u001b[0;32m    200\u001b[0m         \u001b[0mline\u001b[0m\u001b[1;33m.\u001b[0m\u001b[0mremove\u001b[0m\u001b[1;33m(\u001b[0m\u001b[1;33m)\u001b[0m\u001b[1;33m\u001b[0m\u001b[1;33m\u001b[0m\u001b[0m\n",
      "\u001b[1;32m~\\Anaconda3\\lib\\site-packages\\numpy\\core\\_methods.py\u001b[0m in \u001b[0;36m_mean\u001b[1;34m(a, axis, dtype, out, keepdims)\u001b[0m\n\u001b[0;32m     85\u001b[0m             \u001b[0mret\u001b[0m \u001b[1;33m=\u001b[0m \u001b[0mret\u001b[0m\u001b[1;33m.\u001b[0m\u001b[0mdtype\u001b[0m\u001b[1;33m.\u001b[0m\u001b[0mtype\u001b[0m\u001b[1;33m(\u001b[0m\u001b[0mret\u001b[0m \u001b[1;33m/\u001b[0m \u001b[0mrcount\u001b[0m\u001b[1;33m)\u001b[0m\u001b[1;33m\u001b[0m\u001b[1;33m\u001b[0m\u001b[0m\n\u001b[0;32m     86\u001b[0m     \u001b[1;32melse\u001b[0m\u001b[1;33m:\u001b[0m\u001b[1;33m\u001b[0m\u001b[1;33m\u001b[0m\u001b[0m\n\u001b[1;32m---> 87\u001b[1;33m         \u001b[0mret\u001b[0m \u001b[1;33m=\u001b[0m \u001b[0mret\u001b[0m \u001b[1;33m/\u001b[0m \u001b[0mrcount\u001b[0m\u001b[1;33m\u001b[0m\u001b[1;33m\u001b[0m\u001b[0m\n\u001b[0m\u001b[0;32m     88\u001b[0m \u001b[1;33m\u001b[0m\u001b[0m\n\u001b[0;32m     89\u001b[0m     \u001b[1;32mreturn\u001b[0m \u001b[0mret\u001b[0m\u001b[1;33m\u001b[0m\u001b[1;33m\u001b[0m\u001b[0m\n",
      "\u001b[1;31mTypeError\u001b[0m: unsupported operand type(s) for /: 'str' and 'int'"
     ]
    },
    {
     "data": {
      "image/png": "[encoded data removed]",
      "text/plain": [
       "<Figure size 432x288 with 1 Axes>"
      ]
     },
     "metadata": {
      "needs_background": "light"
     },
     "output_type": "display_data"
    }
   ],
   "source": [
    "sns.distplot(data['rating'])\n",
    "plt.show()"
   ]
  },
  {
   "cell_type": "code",
   "execution_count": 31,
   "metadata": {},
   "outputs": [
    {
     "data": {
      "image/png": "[encoded data removed]",
      "text/plain": [
       "<Figure size 720x576 with 2 Axes>"
      ]
     },
     "metadata": {
      "needs_background": "light"
     },
     "output_type": "display_data"
    }
   ],
   "source": [
    "corr_matrix=data.corr(method='pearson')  # default\n",
    "fig, ax = plt.subplots(figsize=(10, 8))\n",
    "ax = sns.heatmap(corr_matrix, annot=True)\n",
    "plt.show()"
   ]
  },
  {
   "cell_type": "code",
   "execution_count": 32,
   "metadata": {},
   "outputs": [],
   "source": [
    "from sklearn.preprocessing import Normalizer\n",
    "# from sklearn.preprocessing import StandardScaler\n",
    "import numpy as np\n",
    "X = data.select_dtypes(include = np.number)\n",
    "\n",
    "# Normalizing data\n",
    "transformer = Normalizer().fit(X)\n",
    "x_normalized = transformer.transform(X)\n",
    "x = pd.DataFrame(x_normalized)"
   ]
  },
  {
   "cell_type": "code",
   "execution_count": 33,
   "metadata": {},
   "outputs": [
    {
     "data": {
      "text/html": [
       "<div>\n",
       "<style scoped>\n",
       "    .dataframe tbody tr th:only-of-type {\n",
       "        vertical-align: middle;\n",
       "    }\n",
       "\n",
       "    .dataframe tbody tr th {\n",
       "        vertical-align: top;\n",
       "    }\n",
       "\n",
       "    .dataframe thead th {\n",
       "        text-align: right;\n",
       "    }\n",
       "</style>\n",
       "<table border=\"1\" class=\"dataframe\">\n",
       "  <thead>\n",
       "    <tr style=\"text-align: right;\">\n",
       "      <th></th>\n",
       "      <th>0</th>\n",
       "      <th>1</th>\n",
       "    </tr>\n",
       "  </thead>\n",
       "  <tbody>\n",
       "    <tr>\n",
       "      <th>0</th>\n",
       "      <td>0.983182</td>\n",
       "      <td>0.182628</td>\n",
       "    </tr>\n",
       "    <tr>\n",
       "      <th>1</th>\n",
       "      <td>0.990415</td>\n",
       "      <td>0.138121</td>\n",
       "    </tr>\n",
       "    <tr>\n",
       "      <th>2</th>\n",
       "      <td>0.997463</td>\n",
       "      <td>0.071188</td>\n",
       "    </tr>\n",
       "    <tr>\n",
       "      <th>3</th>\n",
       "      <td>0.934098</td>\n",
       "      <td>0.357018</td>\n",
       "    </tr>\n",
       "    <tr>\n",
       "      <th>4</th>\n",
       "      <td>0.992405</td>\n",
       "      <td>0.123012</td>\n",
       "    </tr>\n",
       "  </tbody>\n",
       "</table>\n",
       "</div>"
      ],
      "text/plain": [
       "          0         1\n",
       "0  0.983182  0.182628\n",
       "1  0.990415  0.138121\n",
       "2  0.997463  0.071188\n",
       "3  0.934098  0.357018\n",
       "4  0.992405  0.123012"
      ]
     },
     "execution_count": 33,
     "metadata": {},
     "output_type": "execute_result"
    }
   ],
   "source": [
    "x.head()"
   ]
  },
  {
   "cell_type": "code",
   "execution_count": 34,
   "metadata": {},
   "outputs": [
    {
     "data": {
      "text/html": [
       "<div>\n",
       "<style scoped>\n",
       "    .dataframe tbody tr th:only-of-type {\n",
       "        vertical-align: middle;\n",
       "    }\n",
       "\n",
       "    .dataframe tbody tr th {\n",
       "        vertical-align: top;\n",
       "    }\n",
       "\n",
       "    .dataframe thead th {\n",
       "        text-align: right;\n",
       "    }\n",
       "</style>\n",
       "<table border=\"1\" class=\"dataframe\">\n",
       "  <thead>\n",
       "    <tr style=\"text-align: right;\">\n",
       "      <th></th>\n",
       "      <th>rental_rate</th>\n",
       "      <th>rental_duration</th>\n",
       "      <th>length</th>\n",
       "      <th>replacement_cost</th>\n",
       "      <th>category_id</th>\n",
       "      <th>rating</th>\n",
       "    </tr>\n",
       "  </thead>\n",
       "  <tbody>\n",
       "    <tr>\n",
       "      <th>0</th>\n",
       "      <td>0.99</td>\n",
       "      <td>6</td>\n",
       "      <td>113.0</td>\n",
       "      <td>20.99</td>\n",
       "      <td>1</td>\n",
       "      <td>PGG</td>\n",
       "    </tr>\n",
       "    <tr>\n",
       "      <th>1</th>\n",
       "      <td>4.99</td>\n",
       "      <td>3</td>\n",
       "      <td>129.0</td>\n",
       "      <td>17.99</td>\n",
       "      <td>1</td>\n",
       "      <td>R</td>\n",
       "    </tr>\n",
       "    <tr>\n",
       "      <th>2</th>\n",
       "      <td>2.99</td>\n",
       "      <td>5</td>\n",
       "      <td>168.0</td>\n",
       "      <td>11.99</td>\n",
       "      <td>1</td>\n",
       "      <td>NC</td>\n",
       "    </tr>\n",
       "    <tr>\n",
       "      <th>3</th>\n",
       "      <td>0.99</td>\n",
       "      <td>6</td>\n",
       "      <td>68.0</td>\n",
       "      <td>25.99</td>\n",
       "      <td>1</td>\n",
       "      <td>NC</td>\n",
       "    </tr>\n",
       "    <tr>\n",
       "      <th>4</th>\n",
       "      <td>2.99</td>\n",
       "      <td>6</td>\n",
       "      <td>129.0</td>\n",
       "      <td>15.99</td>\n",
       "      <td>1</td>\n",
       "      <td>G</td>\n",
       "    </tr>\n",
       "  </tbody>\n",
       "</table>\n",
       "</div>"
      ],
      "text/plain": [
       "  rental_rate rental_duration  length  replacement_cost category_id rating\n",
       "0        0.99               6   113.0             20.99           1    PGG\n",
       "1        4.99               3   129.0             17.99           1      R\n",
       "2        2.99               5   168.0             11.99           1     NC\n",
       "3        0.99               6    68.0             25.99           1     NC\n",
       "4        2.99               6   129.0             15.99           1      G"
      ]
     },
     "execution_count": 34,
     "metadata": {},
     "output_type": "execute_result"
    }
   ],
   "source": [
    "data.head()"
   ]
  },
  {
   "cell_type": "code",
   "execution_count": 35,
   "metadata": {},
   "outputs": [],
   "source": [
    "cat = data.select_dtypes(include = np.object)\n",
    "cat = cat.drop(['rating'], axis=1)\n",
    "categorical = pd.get_dummies(cat, columns=['rental_rate', 'rental_duration', 'category_id'])"
   ]
  },
  {
   "cell_type": "code",
   "execution_count": 37,
   "metadata": {},
   "outputs": [],
   "source": [
    "y = data['rating']\n",
    "X = np.concatenate((x, categorical), axis=1)"
   ]
  },
  {
   "cell_type": "code",
   "execution_count": 38,
   "metadata": {},
   "outputs": [],
   "source": [
    "from sklearn.model_selection import train_test_split\n",
    "X_train, X_test, y_train, y_test = train_test_split(X, y, test_size=0.3, random_state=100)"
   ]
  },
  {
   "cell_type": "code",
   "execution_count": 39,
   "metadata": {},
   "outputs": [],
   "source": [
    "from sklearn.linear_model import LogisticRegression\n",
    "classification = LogisticRegression(random_state=0, solver='lbfgs',\n",
    "                  multi_class='multinomial').fit(X_train, y_train)"
   ]
  },
  {
   "cell_type": "code",
   "execution_count": 40,
   "metadata": {},
   "outputs": [
    {
     "data": {
      "text/plain": [
       "0.1956521739130435"
      ]
     },
     "execution_count": 40,
     "metadata": {},
     "output_type": "execute_result"
    }
   ],
   "source": [
    "classification.score(X_test, y_test)"
   ]
  },
  {
   "cell_type": "code",
   "execution_count": 41,
   "metadata": {
    "scrolled": true
   },
   "outputs": [
    {
     "data": {
      "text/plain": [
       "0.1956521739130435"
      ]
     },
     "execution_count": 41,
     "metadata": {},
     "output_type": "execute_result"
    }
   ],
   "source": [
    "predictions = classification.predict(X_test)\n",
    "classification.score(X_test, y_test)"
   ]
  },
  {
   "cell_type": "code",
   "execution_count": 42,
   "metadata": {},
   "outputs": [
    {
     "data": {
      "text/plain": [
       "PG     29\n",
       "PGG    23\n",
       "R      19\n",
       "G      16\n",
       "NC      5\n",
       "dtype: int64"
      ]
     },
     "execution_count": 42,
     "metadata": {},
     "output_type": "execute_result"
    }
   ],
   "source": [
    "pd.Series(predictions).value_counts()"
   ]
  },
  {
   "cell_type": "code",
   "execution_count": 43,
   "metadata": {},
   "outputs": [
    {
     "data": {
      "text/plain": [
       "NC     21\n",
       "PGG    19\n",
       "R      19\n",
       "G      18\n",
       "PG     15\n",
       "Name: rating, dtype: int64"
      ]
     },
     "execution_count": 43,
     "metadata": {},
     "output_type": "execute_result"
    }
   ],
   "source": [
    "y_test.value_counts()"
   ]
  },
  {
   "cell_type": "code",
   "execution_count": 44,
   "metadata": {},
   "outputs": [
    {
     "data": {
      "text/plain": [
       "array([[2, 1, 7, 5, 3],\n",
       "       [8, 1, 5, 3, 4],\n",
       "       [1, 1, 5, 5, 3],\n",
       "       [2, 0, 6, 6, 5],\n",
       "       [3, 2, 6, 4, 4]], dtype=int64)"
      ]
     },
     "execution_count": 44,
     "metadata": {},
     "output_type": "execute_result"
    }
   ],
   "source": [
    "from sklearn.metrics import confusion_matrix\n",
    "confusion_matrix(y_test, predictions)"
   ]
  },
  {
   "cell_type": "code",
   "execution_count": null,
   "metadata": {},
   "outputs": [],
   "source": [
    "# from sklearn import metrics\n",
    "# import matplotlib.pyplot as plt\n",
    "\n",
    "# y_pred_proba = classification.predict_proba(X_test)[::,1]\n",
    "# fpr, tpr, _ = metrics.roc_curve(y_test,  y_pred_proba)\n",
    "# auc = metrics.roc_auc_score(y_test, y_pred_proba)\n",
    "# plt.plot(fpr,tpr)"
   ]
  },
  {
   "cell_type": "code",
   "execution_count": 45,
   "metadata": {},
   "outputs": [
    {
     "data": {
      "text/plain": [
       "array([[0.34410295, 0.18725895, 0.12811077, 0.18306864, 0.1574587 ],\n",
       "       [0.31206307, 0.12873885, 0.21647901, 0.26278359, 0.07993548],\n",
       "       [0.38184562, 0.13207752, 0.21478073, 0.12816866, 0.14312747],\n",
       "       [0.267774  , 0.12255561, 0.17494221, 0.0829013 , 0.35182688],\n",
       "       [0.17232856, 0.12866947, 0.25377659, 0.38883767, 0.0563877 ],\n",
       "       [0.18224306, 0.12096707, 0.35081099, 0.20281649, 0.14316239],\n",
       "       [0.27733148, 0.12552194, 0.17029008, 0.08445407, 0.34240243],\n",
       "       [0.29516916, 0.15643725, 0.16987405, 0.19277457, 0.18574497],\n",
       "       [0.15703728, 0.1739989 , 0.2321314 , 0.26526058, 0.17157183],\n",
       "       [0.08170892, 0.13851542, 0.29902117, 0.33475664, 0.14599786],\n",
       "       [0.17653076, 0.17434255, 0.3185951 , 0.18948471, 0.14104688],\n",
       "       [0.20523701, 0.19587463, 0.18515645, 0.11465963, 0.29907229],\n",
       "       [0.15401617, 0.25671187, 0.20053345, 0.34268826, 0.04605025],\n",
       "       [0.14077688, 0.31025328, 0.3179041 , 0.11626648, 0.11479926],\n",
       "       [0.17557851, 0.2568917 , 0.27524229, 0.1694031 , 0.1228844 ],\n",
       "       [0.21132126, 0.10563833, 0.23791646, 0.12363579, 0.32148816],\n",
       "       [0.33422641, 0.10664169, 0.25823345, 0.14493976, 0.1559587 ],\n",
       "       [0.08177691, 0.19834824, 0.32544075, 0.2659711 , 0.128463  ],\n",
       "       [0.08121267, 0.09437699, 0.22318203, 0.2070196 , 0.39420871],\n",
       "       [0.31960263, 0.11676398, 0.20727814, 0.28821265, 0.06814261],\n",
       "       [0.27492098, 0.12478238, 0.17145971, 0.08406884, 0.34476809],\n",
       "       [0.08531927, 0.07181699, 0.34035404, 0.32198656, 0.18052314],\n",
       "       [0.18954604, 0.18580489, 0.19681551, 0.11002621, 0.31780734],\n",
       "       [0.17063088, 0.18774361, 0.22227119, 0.36580994, 0.05354438],\n",
       "       [0.20992095, 0.17324754, 0.18547166, 0.24981006, 0.18154979],\n",
       "       [0.39493398, 0.13455608, 0.20455331, 0.12966156, 0.13629507],\n",
       "       [0.16406241, 0.2047347 , 0.23620383, 0.33103166, 0.06396741],\n",
       "       [0.07990828, 0.06851584, 0.35381549, 0.31000552, 0.18775487],\n",
       "       [0.31324993, 0.1024841 , 0.27647884, 0.14083373, 0.16695341],\n",
       "       [0.33215507, 0.10624639, 0.26001352, 0.14455674, 0.15702827],\n",
       "       [0.12697237, 0.12750423, 0.29499171, 0.18119797, 0.26933372],\n",
       "       [0.18280515, 0.1213204 , 0.22194999, 0.11855487, 0.35536959],\n",
       "       [0.17502601, 0.13974037, 0.23088395, 0.25326818, 0.20108149],\n",
       "       [0.17766801, 0.25880099, 0.27185395, 0.17031048, 0.12136656],\n",
       "       [0.18555588, 0.18313227, 0.19984096, 0.10877644, 0.32269445],\n",
       "       [0.07520568, 0.17413754, 0.28237219, 0.35131081, 0.11697378],\n",
       "       [0.16429267, 0.11263475, 0.37733811, 0.19170387, 0.15403059],\n",
       "       [0.25502775, 0.27960614, 0.20502221, 0.21018793, 0.05015597],\n",
       "       [0.35288715, 0.13667327, 0.17468366, 0.27124225, 0.06451367],\n",
       "       [0.25085283, 0.11858863, 0.261117  , 0.0665359 , 0.30290564],\n",
       "       [0.16814633, 0.20769023, 0.22828959, 0.33407089, 0.06180296],\n",
       "       [0.16631251, 0.26187155, 0.31963697, 0.11619225, 0.13598672],\n",
       "       [0.18797243, 0.11497216, 0.27390214, 0.34260847, 0.08054481],\n",
       "       [0.14019718, 0.10095932, 0.28354097, 0.17023025, 0.30507228],\n",
       "       [0.14663857, 0.24998714, 0.21634808, 0.33732585, 0.04970035],\n",
       "       [0.14801365, 0.08512886, 0.30233254, 0.26310501, 0.20141994],\n",
       "       [0.14880106, 0.11453168, 0.17595336, 0.1705914 , 0.3901225 ],\n",
       "       [0.13956054, 0.11337455, 0.3205377 , 0.35536613, 0.07116108],\n",
       "       [0.14608721, 0.17188485, 0.27167653, 0.34493235, 0.06541906],\n",
       "       [0.17007125, 0.11519774, 0.23104512, 0.11365988, 0.370026  ],\n",
       "       [0.17598239, 0.1739811 , 0.31943176, 0.18918519, 0.14141956],\n",
       "       [0.16127585, 0.11116874, 0.38191864, 0.18971528, 0.1559215 ],\n",
       "       [0.13136522, 0.26757337, 0.3550711 , 0.13811328, 0.10787702],\n",
       "       [0.0768234 , 0.17655873, 0.27693556, 0.35496684, 0.11471548],\n",
       "       [0.29255919, 0.19304578, 0.23865459, 0.14308345, 0.132657  ],\n",
       "       [0.24860889, 0.11783559, 0.26264948, 0.06619969, 0.30470635],\n",
       "       [0.25384038, 0.27378775, 0.25321753, 0.0838379 , 0.13531644],\n",
       "       [0.13552865, 0.30250739, 0.32901647, 0.11408911, 0.11885838],\n",
       "       [0.27081586, 0.3170064 , 0.17255688, 0.19220014, 0.04742072],\n",
       "       [0.15536631, 0.2257101 , 0.35426773, 0.1378441 , 0.12681176],\n",
       "       [0.14950535, 0.25266766, 0.21007804, 0.33949847, 0.0482505 ],\n",
       "       [0.25652005, 0.12046822, 0.25725879, 0.06737116, 0.29838179],\n",
       "       [0.43957343, 0.13151447, 0.15460784, 0.04911049, 0.22519377],\n",
       "       [0.14825429, 0.1418449 , 0.26775187, 0.19749515, 0.24465379],\n",
       "       [0.14781622, 0.21818338, 0.36799025, 0.13425626, 0.13175389],\n",
       "       [0.22100965, 0.15784496, 0.29835659, 0.1884068 , 0.13438199],\n",
       "       [0.14197334, 0.31198044, 0.31540845, 0.11674737, 0.1138904 ],\n",
       "       [0.38305574, 0.13231346, 0.21382752, 0.12831376, 0.14248952],\n",
       "       [0.21534766, 0.15517959, 0.30570735, 0.18604152, 0.13772388],\n",
       "       [0.2789882 , 0.10872086, 0.25329788, 0.27580468, 0.08318839],\n",
       "       [0.1515679 , 0.25454299, 0.20566554, 0.34099125, 0.04723232],\n",
       "       [0.13047906, 0.26635521, 0.35705064, 0.13763169, 0.1084834 ],\n",
       "       [0.16476278, 0.09160869, 0.27913668, 0.27861788, 0.18587397],\n",
       "       [0.16445039, 0.25992456, 0.32276362, 0.11553671, 0.13732472],\n",
       "       [0.25716697, 0.12058366, 0.20622841, 0.13722412, 0.27879684],\n",
       "       [0.18838225, 0.09983054, 0.24859432, 0.2975263 , 0.16566659],\n",
       "       [0.40143156, 0.11364185, 0.19138375, 0.05905462, 0.23448822],\n",
       "       [0.14651281, 0.24986756, 0.21662684, 0.3372279 , 0.0497649 ],\n",
       "       [0.1516044 , 0.17106147, 0.24546594, 0.28140442, 0.15046378],\n",
       "       [0.16274944, 0.25812835, 0.32563689, 0.11492943, 0.13855589],\n",
       "       [0.15725138, 0.28224258, 0.25182405, 0.2535761 , 0.05510589],\n",
       "       [0.16634426, 0.0921923 , 0.27701325, 0.27998984, 0.18446035],\n",
       "       [0.18575868, 0.21334682, 0.18670367, 0.25909036, 0.15510046],\n",
       "       [0.16313936, 0.11174385, 0.23606902, 0.11086347, 0.3781843 ],\n",
       "       [0.15446864, 0.17769575, 0.25386704, 0.3528525 , 0.06111607],\n",
       "       [0.26000987, 0.27781735, 0.24603907, 0.08468169, 0.13145201],\n",
       "       [0.2279843 , 0.11135557, 0.22616887, 0.12893358, 0.30555769],\n",
       "       [0.17529103, 0.11781853, 0.36093805, 0.19865627, 0.14729612],\n",
       "       [0.31431584, 0.16198934, 0.15595493, 0.19718191, 0.17055797],\n",
       "       [0.11781474, 0.12083612, 0.30729849, 0.17342343, 0.28062723],\n",
       "       [0.25987071, 0.12156453, 0.254986  , 0.06785571, 0.29572306],\n",
       "       [0.19038306, 0.12452946, 0.3391861 , 0.20746366, 0.13843772]])"
      ]
     },
     "execution_count": 45,
     "metadata": {},
     "output_type": "execute_result"
    }
   ],
   "source": [
    "classification.predict_proba(X_test)"
   ]
  },
  {
   "cell_type": "code",
   "execution_count": 46,
   "metadata": {},
   "outputs": [
    {
     "data": {
      "text/plain": [
       "array([0.34410295, 0.31206307, 0.38184562, 0.267774  , 0.17232856,\n",
       "       0.18224306, 0.27733148, 0.29516916, 0.15703728, 0.08170892,\n",
       "       0.17653076, 0.20523701, 0.15401617, 0.14077688, 0.17557851,\n",
       "       0.21132126, 0.33422641, 0.08177691, 0.08121267, 0.31960263,\n",
       "       0.27492098, 0.08531927, 0.18954604, 0.17063088, 0.20992095,\n",
       "       0.39493398, 0.16406241, 0.07990828, 0.31324993, 0.33215507,\n",
       "       0.12697237, 0.18280515, 0.17502601, 0.17766801, 0.18555588,\n",
       "       0.07520568, 0.16429267, 0.25502775, 0.35288715, 0.25085283,\n",
       "       0.16814633, 0.16631251, 0.18797243, 0.14019718, 0.14663857,\n",
       "       0.14801365, 0.14880106, 0.13956054, 0.14608721, 0.17007125,\n",
       "       0.17598239, 0.16127585, 0.13136522, 0.0768234 , 0.29255919,\n",
       "       0.24860889, 0.25384038, 0.13552865, 0.27081586, 0.15536631,\n",
       "       0.14950535, 0.25652005, 0.43957343, 0.14825429, 0.14781622,\n",
       "       0.22100965, 0.14197334, 0.38305574, 0.21534766, 0.2789882 ,\n",
       "       0.1515679 , 0.13047906, 0.16476278, 0.16445039, 0.25716697,\n",
       "       0.18838225, 0.40143156, 0.14651281, 0.1516044 , 0.16274944,\n",
       "       0.15725138, 0.16634426, 0.18575868, 0.16313936, 0.15446864,\n",
       "       0.26000987, 0.2279843 , 0.17529103, 0.31431584, 0.11781474,\n",
       "       0.25987071, 0.19038306])"
      ]
     },
     "execution_count": 46,
     "metadata": {},
     "output_type": "execute_result"
    }
   ],
   "source": [
    "classification.predict_proba(X_test)[::,0]"
   ]
  },
  {
   "cell_type": "code",
   "execution_count": null,
   "metadata": {},
   "outputs": [],
   "source": []
  }
 ],
 "metadata": {
  "kernelspec": {
   "display_name": "'Python Interactive'",
   "language": "python",
   "name": "21f467c3-8d2d-4ed5-9ef7-6a80fcf36c47"
  },
  "language_info": {
   "codemirror_mode": {
    "name": "ipython",
    "version": 3
   },
   "file_extension": ".py",
   "mimetype": "text/x-python",
   "name": "python",
   "nbconvert_exporter": "python",
   "pygments_lexer": "ipython3",
   "version": "3.7.3"
  }
 },
 "nbformat": 4,
 "nbformat_minor": 2
}
